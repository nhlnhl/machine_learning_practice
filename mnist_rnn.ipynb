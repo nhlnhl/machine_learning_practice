{
 "cells": [
  {
   "cell_type": "code",
   "execution_count": 1,
   "metadata": {},
   "outputs": [
    {
     "name": "stderr",
     "output_type": "stream",
     "text": [
      "C:\\Users\\joobong\\Anaconda3\\lib\\site-packages\\h5py\\__init__.py:36: FutureWarning: Conversion of the second argument of issubdtype from `float` to `np.floating` is deprecated. In future, it will be treated as `np.float64 == np.dtype(float).type`.\n",
      "  from ._conv import register_converters as _register_converters\n"
     ]
    },
    {
     "name": "stdout",
     "output_type": "stream",
     "text": [
      "Successfully downloaded train-images-idx3-ubyte.gz 9912422 bytes.\n",
      "Extracting /tmp/data/train-images-idx3-ubyte.gz\n",
      "Successfully downloaded train-labels-idx1-ubyte.gz 28881 bytes.\n",
      "Extracting /tmp/data/train-labels-idx1-ubyte.gz\n",
      "Successfully downloaded t10k-images-idx3-ubyte.gz 1648877 bytes.\n",
      "Extracting /tmp/data/t10k-images-idx3-ubyte.gz\n",
      "Successfully downloaded t10k-labels-idx1-ubyte.gz 4542 bytes.\n",
      "Extracting /tmp/data/t10k-labels-idx1-ubyte.gz\n"
     ]
    }
   ],
   "source": [
    "import tensorflow as tf\n",
    "from tensorflow.contrib import rnn\n",
    "\n",
    "# import MNIST data\n",
    "from tensorflow.examples.tutorials.mnist import input_data\n",
    "mnist = input_data.read_data_sets(\"/tmp/data/\", one_hot=True)"
   ]
  },
  {
   "cell_type": "code",
   "execution_count": 2,
   "metadata": {},
   "outputs": [],
   "source": [
    "# training parameters\n",
    "learning_rate = 0.001\n",
    "training_steps = 10000\n",
    "batch_size = 128\n",
    "display_step = 200"
   ]
  },
  {
   "cell_type": "code",
   "execution_count": 3,
   "metadata": {},
   "outputs": [],
   "source": [
    "# network parameters\n",
    "num_input = 28 # MNIST data input (img shape: 28 * 28)\n",
    "timesteps = 28 # timesteps\n",
    "num_hidden = 128 # hidden layer num of features\n",
    "num_classes = 10 # MNIST total classes (0 - 9 digits)"
   ]
  },
  {
   "cell_type": "code",
   "execution_count": 6,
   "metadata": {},
   "outputs": [],
   "source": [
    "# graph inputs\n",
    "X = tf.placeholder(\"float\", [None, timesteps, num_input])\n",
    "Y = tf.placeholder(\"float\", [None, num_classes])"
   ]
  },
  {
   "cell_type": "code",
   "execution_count": 7,
   "metadata": {},
   "outputs": [],
   "source": [
    "# define weights and biases\n",
    "weights = {\n",
    "    'out': tf.Variable(tf.random_normal([num_hidden, num_classes]))\n",
    "}\n",
    "biases = {\n",
    "    'out': tf.Variable(tf.random_normal([num_classes]))\n",
    "}"
   ]
  },
  {
   "cell_type": "code",
   "execution_count": 12,
   "metadata": {},
   "outputs": [],
   "source": [
    "def RNN(x, weights, biases):\n",
    "    # prepare data shape to match `rnn` function requirements\n",
    "    # current data input shape: (batch_size, timesteps, n_input)\n",
    "    # required shape: 'timesteps' tensors list of shape (batch_size, n_input)\n",
    "\n",
    "    # unstack to get a list of 'timesteps' tensors of shape (batch_size, n_input)\n",
    "    x = tf.unstack(x, timesteps, 1)\n",
    "\n",
    "    # define a lstm cell with tensorflow\n",
    "    lstm_cell = rnn.BasicLSTMCell(num_hidden, forget_bias=1.0)\n",
    "\n",
    "    # get lstm cell output\n",
    "    outputs, states = rnn.static_rnn(lstm_cell, x, dtype=tf.float32)\n",
    "\n",
    "    # linear activation, using rnn inner loop last output\n",
    "    return tf.matmul(outputs[-1], weights['out']) + biases['out']"
   ]
  },
  {
   "cell_type": "code",
   "execution_count": 13,
   "metadata": {},
   "outputs": [],
   "source": [
    "logits = RNN(X, weights, biases)\n",
    "prediction = tf.nn.softmax(logits)"
   ]
  },
  {
   "cell_type": "code",
   "execution_count": 14,
   "metadata": {},
   "outputs": [
    {
     "name": "stdout",
     "output_type": "stream",
     "text": [
      "WARNING:tensorflow:From <ipython-input-14-ece2f905cbc3>:2: softmax_cross_entropy_with_logits (from tensorflow.python.ops.nn_ops) is deprecated and will be removed in a future version.\n",
      "Instructions for updating:\n",
      "\n",
      "Future major versions of TensorFlow will allow gradients to flow\n",
      "into the labels input on backprop by default.\n",
      "\n",
      "See tf.nn.softmax_cross_entropy_with_logits_v2.\n",
      "\n"
     ]
    }
   ],
   "source": [
    "# define loss and optimizer\n",
    "loss_op = tf.reduce_mean(tf.nn.softmax_cross_entropy_with_logits(logits=logits, labels=Y))\n",
    "optimizer = tf.train.GradientDescentOptimizer(learning_rate=learning_rate)\n",
    "train_op = optimizer.minimize(loss_op)"
   ]
  },
  {
   "cell_type": "code",
   "execution_count": 15,
   "metadata": {},
   "outputs": [],
   "source": [
    "# evaluate model (with test logits, for dropout to be disabled)\n",
    "correct_pred = tf.equal(tf.argmax(prediction, 1), tf.argmax(Y, 1))\n",
    "accuracy = tf.reduce_mean(tf.cast(correct_pred, tf.float32))"
   ]
  },
  {
   "cell_type": "code",
   "execution_count": 17,
   "metadata": {},
   "outputs": [
    {
     "name": "stdout",
     "output_type": "stream",
     "text": [
      "Step 1, Minibatch Loss= 2.7352, Training Accuracy= 0.109\n",
      "Step 200, Minibatch Loss= 2.1979, Training Accuracy= 0.219\n",
      "Step 400, Minibatch Loss= 1.9965, Training Accuracy= 0.320\n",
      "Step 600, Minibatch Loss= 1.8096, Training Accuracy= 0.375\n",
      "Step 800, Minibatch Loss= 1.6787, Training Accuracy= 0.453\n",
      "Step 1000, Minibatch Loss= 1.5111, Training Accuracy= 0.523\n",
      "Step 1200, Minibatch Loss= 1.4311, Training Accuracy= 0.500\n",
      "Step 1400, Minibatch Loss= 1.5022, Training Accuracy= 0.484\n",
      "Step 1600, Minibatch Loss= 1.4280, Training Accuracy= 0.555\n",
      "Step 1800, Minibatch Loss= 1.2777, Training Accuracy= 0.555\n",
      "Step 2000, Minibatch Loss= 1.3786, Training Accuracy= 0.508\n",
      "Step 2200, Minibatch Loss= 1.4265, Training Accuracy= 0.547\n",
      "Step 2400, Minibatch Loss= 1.1746, Training Accuracy= 0.625\n",
      "Step 2600, Minibatch Loss= 1.1173, Training Accuracy= 0.617\n",
      "Step 2800, Minibatch Loss= 1.1958, Training Accuracy= 0.617\n",
      "Step 3000, Minibatch Loss= 1.0175, Training Accuracy= 0.688\n",
      "Step 3200, Minibatch Loss= 1.0314, Training Accuracy= 0.719\n",
      "Step 3400, Minibatch Loss= 0.8952, Training Accuracy= 0.766\n",
      "Step 3600, Minibatch Loss= 0.8796, Training Accuracy= 0.727\n",
      "Step 3800, Minibatch Loss= 0.9387, Training Accuracy= 0.688\n",
      "Step 4000, Minibatch Loss= 0.8983, Training Accuracy= 0.750\n",
      "Step 4200, Minibatch Loss= 0.8631, Training Accuracy= 0.742\n",
      "Step 4400, Minibatch Loss= 0.7174, Training Accuracy= 0.766\n",
      "Step 4600, Minibatch Loss= 0.9265, Training Accuracy= 0.680\n",
      "Step 4800, Minibatch Loss= 0.8704, Training Accuracy= 0.773\n",
      "Step 5000, Minibatch Loss= 0.8607, Training Accuracy= 0.758\n",
      "Step 5200, Minibatch Loss= 0.7209, Training Accuracy= 0.797\n",
      "Step 5400, Minibatch Loss= 0.6891, Training Accuracy= 0.773\n",
      "Step 5600, Minibatch Loss= 0.6894, Training Accuracy= 0.797\n",
      "Step 5800, Minibatch Loss= 0.6939, Training Accuracy= 0.781\n",
      "Step 6000, Minibatch Loss= 0.6784, Training Accuracy= 0.828\n",
      "Step 6200, Minibatch Loss= 0.7181, Training Accuracy= 0.750\n",
      "Step 6400, Minibatch Loss= 0.6465, Training Accuracy= 0.797\n",
      "Step 6600, Minibatch Loss= 0.6467, Training Accuracy= 0.820\n",
      "Step 6800, Minibatch Loss= 0.6574, Training Accuracy= 0.781\n",
      "Step 7000, Minibatch Loss= 0.5869, Training Accuracy= 0.805\n",
      "Step 7200, Minibatch Loss= 0.6076, Training Accuracy= 0.805\n",
      "Step 7400, Minibatch Loss= 0.7024, Training Accuracy= 0.836\n",
      "Step 7600, Minibatch Loss= 0.6062, Training Accuracy= 0.805\n",
      "Step 7800, Minibatch Loss= 0.5914, Training Accuracy= 0.852\n",
      "Step 8000, Minibatch Loss= 0.6568, Training Accuracy= 0.812\n",
      "Step 8200, Minibatch Loss= 0.5710, Training Accuracy= 0.812\n",
      "Step 8400, Minibatch Loss= 0.5365, Training Accuracy= 0.828\n",
      "Step 8600, Minibatch Loss= 0.4987, Training Accuracy= 0.844\n",
      "Step 8800, Minibatch Loss= 0.6164, Training Accuracy= 0.781\n",
      "Step 9000, Minibatch Loss= 0.4648, Training Accuracy= 0.844\n",
      "Step 9200, Minibatch Loss= 0.4322, Training Accuracy= 0.875\n",
      "Step 9400, Minibatch Loss= 0.5666, Training Accuracy= 0.766\n",
      "Step 9600, Minibatch Loss= 0.4765, Training Accuracy= 0.859\n",
      "Step 9800, Minibatch Loss= 0.4910, Training Accuracy= 0.844\n",
      "Step 10000, Minibatch Loss= 0.5420, Training Accuracy= 0.836\n",
      "Optimization Finished!\n",
      "Testing Accuracy: 0.8671875\n"
     ]
    }
   ],
   "source": [
    "# initialize the variables (i.e. assign their default value)\n",
    "init = tf.global_variables_initializer()\n",
    "\n",
    "# start training\n",
    "with tf.Session() as sess:\n",
    "    # run the initializer\n",
    "    sess.run(init)\n",
    "\n",
    "    for step in range(1, training_steps+1):\n",
    "        batch_x, batch_y = mnist.train.next_batch(batch_size)\n",
    "        # reshape data to get 28 seq of 28 elements\n",
    "        batch_x = batch_x.reshape((batch_size, timesteps, num_input))\n",
    "        # run optimization op (backprop)\n",
    "        sess.run(train_op, feed_dict={X: batch_x, Y: batch_y})\n",
    "        if step % display_step == 0 or step == 1:\n",
    "            # calculate batch loss and accuracy\n",
    "            loss, acc = sess.run([loss_op, accuracy], feed_dict={X: batch_x, Y: batch_y})\n",
    "            print(\"Step \" + str(step) + \", Minibatch Loss= \" + \\\n",
    "                  \"{:.4f}\".format(loss) + \", Training Accuracy= \" + \\\n",
    "                  \"{:.3f}\".format(acc))\n",
    "\n",
    "    print(\"Optimization Finished!\")\n",
    "\n",
    "    # calculate accuracy for 128 mnist test images\n",
    "    test_len = 128\n",
    "    test_data = mnist.test.images[:test_len].reshape((-1, timesteps, num_input))\n",
    "    test_label = mnist.test.labels[:test_len]\n",
    "    print(\"Testing Accuracy:\", \\\n",
    "        sess.run(accuracy, feed_dict={X: test_data, Y: test_label}))\n",
    "    \n",
    "    # tensorboard --logdir=./logs --port=any number you want\n",
    "    merged = tf.summary.merge_all()\n",
    "    writer = tf.summary.FileWriter('./logs', sess.graph)"
   ]
  },
  {
   "cell_type": "code",
   "execution_count": null,
   "metadata": {},
   "outputs": [],
   "source": []
  }
 ],
 "metadata": {
  "kernelspec": {
   "display_name": "Python 3",
   "language": "python",
   "name": "python3"
  },
  "language_info": {
   "codemirror_mode": {
    "name": "ipython",
    "version": 3
   },
   "file_extension": ".py",
   "mimetype": "text/x-python",
   "name": "python",
   "nbconvert_exporter": "python",
   "pygments_lexer": "ipython3",
   "version": "3.6.4"
  }
 },
 "nbformat": 4,
 "nbformat_minor": 2
}
