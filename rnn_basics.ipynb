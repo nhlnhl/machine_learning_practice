{
 "cells": [
  {
   "cell_type": "code",
   "execution_count": 1,
   "metadata": {},
   "outputs": [
    {
     "name": "stderr",
     "output_type": "stream",
     "text": [
      "C:\\Users\\joobong\\Anaconda3\\lib\\site-packages\\h5py\\__init__.py:36: FutureWarning: Conversion of the second argument of issubdtype from `float` to `np.floating` is deprecated. In future, it will be treated as `np.float64 == np.dtype(float).type`.\n",
      "  from ._conv import register_converters as _register_converters\n"
     ]
    }
   ],
   "source": [
    "import tensorflow as tf\n",
    "import numpy as np\n",
    "from tensorflow.contrib import rnn\n",
    "import pprint\n",
    "\n",
    "pp = pprint.PrettyPrinter(indent=4)\n",
    "sess = tf.InteractiveSession()\n",
    "\n",
    "# tensorboard --logdir=./logs --port=any number you want\n",
    "merged = tf.summary.merge_all()\n",
    "writer = tf.summary.FileWriter('./logs', sess.graph)"
   ]
  },
  {
   "cell_type": "code",
   "execution_count": 2,
   "metadata": {},
   "outputs": [],
   "source": [
    "# one hot encoding for each char in 'hello'\n",
    "h = [1, 0, 0, 0]\n",
    "e = [0, 1, 0, 0]\n",
    "l = [0, 0, 1, 0]\n",
    "o = [0, 0, 0, 1]"
   ]
  },
  {
   "cell_type": "code",
   "execution_count": 3,
   "metadata": {},
   "outputs": [
    {
     "name": "stdout",
     "output_type": "stream",
     "text": [
      "2 2\n",
      "array([[[1., 0., 0., 0.]]], dtype=float32)\n",
      "array([[[ 0.37915292, -0.54918814]]], dtype=float32)\n"
     ]
    }
   ],
   "source": [
    "with tf.variable_scope('one_cell') as scope:\n",
    "    # one cell RNN input_dim (4) -> output_dim (2)\n",
    "    hidden_size = 2\n",
    "    cell = tf.contrib.rnn.BasicRNNCell(num_units=hidden_size)\n",
    "    print(cell.output_size, cell.state_size)\n",
    "\n",
    "    x_data = np.array([[h]], dtype=np.float32) # x_data = [[[1,0,0,0]]]\n",
    "    pp.pprint(x_data)\n",
    "    \n",
    "    outputs, _states = tf.nn.dynamic_rnn(cell, x_data, dtype=tf.float32)\n",
    "\n",
    "    sess.run(tf.global_variables_initializer())\n",
    "    pp.pprint(outputs.eval())"
   ]
  },
  {
   "cell_type": "code",
   "execution_count": 4,
   "metadata": {},
   "outputs": [
    {
     "name": "stdout",
     "output_type": "stream",
     "text": [
      "(1, 5, 4)\n",
      "array([[[1., 0., 0., 0.],\n",
      "        [0., 1., 0., 0.],\n",
      "        [0., 0., 1., 0.],\n",
      "        [0., 0., 1., 0.],\n",
      "        [0., 0., 0., 1.]]], dtype=float32)\n",
      "array([[[-0.5819289 ,  0.43208978],\n",
      "        [ 0.88217247,  0.8154548 ],\n",
      "        [ 0.13342865, -0.631108  ],\n",
      "        [ 0.27409574, -0.78612137],\n",
      "        [ 0.2372579 ,  0.22885989]]], dtype=float32)\n"
     ]
    }
   ],
   "source": [
    "with tf.variable_scope('two_sequances') as scope:\n",
    "    # one cell RNN input_dim (4) -> output_dim (2). sequence: 5\n",
    "    hidden_size = 2\n",
    "    cell = tf.contrib.rnn.BasicRNNCell(num_units=hidden_size)\n",
    "    \n",
    "    x_data = np.array([[h, e, l, l, o]], dtype=np.float32)\n",
    "    print(x_data.shape)\n",
    "    pp.pprint(x_data)\n",
    "    \n",
    "    outputs, states = tf.nn.dynamic_rnn(cell, x_data, dtype=tf.float32)\n",
    "    \n",
    "    sess.run(tf.global_variables_initializer())\n",
    "    pp.pprint(outputs.eval())"
   ]
  },
  {
   "cell_type": "code",
   "execution_count": 5,
   "metadata": {},
   "outputs": [
    {
     "name": "stdout",
     "output_type": "stream",
     "text": [
      "(3, 5, 4)\n",
      "array([[[1., 0., 0., 0.],\n",
      "        [0., 1., 0., 0.],\n",
      "        [0., 0., 1., 0.],\n",
      "        [0., 0., 1., 0.],\n",
      "        [0., 0., 0., 1.]],\n",
      "\n",
      "       [[0., 1., 0., 0.],\n",
      "        [0., 0., 0., 1.],\n",
      "        [0., 0., 1., 0.],\n",
      "        [0., 0., 1., 0.],\n",
      "        [0., 0., 1., 0.]],\n",
      "\n",
      "       [[0., 0., 1., 0.],\n",
      "        [0., 0., 1., 0.],\n",
      "        [0., 1., 0., 0.],\n",
      "        [0., 1., 0., 0.],\n",
      "        [0., 0., 1., 0.]]], dtype=float32)\n",
      "array([[[-0.02660759,  0.11081155],\n",
      "        [ 0.04162992,  0.24706486],\n",
      "        [ 0.13791427,  0.12174579],\n",
      "        [ 0.19353995,  0.03425804],\n",
      "        [ 0.09056399,  0.01147817]],\n",
      "\n",
      "       [[ 0.04824106,  0.13433287],\n",
      "        [ 0.02340621,  0.04905285],\n",
      "        [ 0.09890956, -0.00628696],\n",
      "        [ 0.1509757 , -0.0571177 ],\n",
      "        [ 0.1873079 , -0.09025289]],\n",
      "\n",
      "       [[ 0.07045752, -0.05650955],\n",
      "        [ 0.12282095, -0.09271558],\n",
      "        [ 0.11807364,  0.07335638],\n",
      "        [ 0.15591517,  0.1952341 ],\n",
      "        [ 0.24918218,  0.08639618]]], dtype=float32)\n"
     ]
    }
   ],
   "source": [
    "with tf.variable_scope('3_batches') as scope:\n",
    "    # one cell RNN input_dim (4) -> output_dim (2). sequence: 5, batch 3\n",
    "    # 3 batches 'hello', 'eolll', 'lleel'\n",
    "    hidden_size = 2\n",
    "    cell = rnn.BasicLSTMCell(num_units=hidden_size, state_is_tuple=True)\n",
    "    \n",
    "    x_data = np.array([[h, e, l, l, o],\n",
    "                       [e, o, l, l, l],\n",
    "                       [l, l, e, e, l]], dtype=np.float32)\n",
    "    print(x_data.shape)\n",
    "    pp.pprint(x_data)\n",
    "    \n",
    "    outputs, _states = tf.nn.dynamic_rnn(cell, x_data, dtype=tf.float32)\n",
    "    \n",
    "    sess.run(tf.global_variables_initializer())\n",
    "    pp.pprint(outputs.eval())"
   ]
  },
  {
   "cell_type": "code",
   "execution_count": 6,
   "metadata": {},
   "outputs": [
    {
     "name": "stdout",
     "output_type": "stream",
     "text": [
      "(3, 5, 4)\n",
      "array([[[1., 0., 0., 0.],\n",
      "        [0., 1., 0., 0.],\n",
      "        [0., 0., 1., 0.],\n",
      "        [0., 0., 1., 0.],\n",
      "        [0., 0., 0., 1.]],\n",
      "\n",
      "       [[0., 1., 0., 0.],\n",
      "        [0., 0., 0., 1.],\n",
      "        [0., 0., 1., 0.],\n",
      "        [0., 0., 1., 0.],\n",
      "        [0., 0., 1., 0.]],\n",
      "\n",
      "       [[0., 0., 1., 0.],\n",
      "        [0., 0., 1., 0.],\n",
      "        [0., 1., 0., 0.],\n",
      "        [0., 1., 0., 0.],\n",
      "        [0., 0., 1., 0.]]], dtype=float32)\n",
      "array([[[ 0.09501679,  0.14972918],\n",
      "        [-0.03194668,  0.12671547],\n",
      "        [-0.12083457,  0.04190237],\n",
      "        [-0.16853432, -0.00419868],\n",
      "        [ 0.03390745,  0.05028253]],\n",
      "\n",
      "       [[-0.06904674,  0.0414968 ],\n",
      "        [ 0.10306758,  0.1010014 ],\n",
      "        [-0.05347221,  0.01525201],\n",
      "        [ 0.        ,  0.        ],\n",
      "        [ 0.        ,  0.        ]],\n",
      "\n",
      "       [[-0.10068073, -0.02370807],\n",
      "        [-0.15261619, -0.04099264],\n",
      "        [-0.1699811 , -0.00047414],\n",
      "        [-0.16270062,  0.03405712],\n",
      "        [ 0.        ,  0.        ]]], dtype=float32)\n"
     ]
    }
   ],
   "source": [
    "with tf.variable_scope('3_batches_dynamic_length') as scope:\n",
    "    # one cell RNN input_dim (4) -> output_dim (5). sequence: 5, batch 3\n",
    "    # 3 batches 'hello', 'eolll', 'lleel'    \n",
    "    hidden_size = 2\n",
    "    cell = rnn.BasicLSTMCell(num_units=hidden_size, state_is_tuple=True)\n",
    "    \n",
    "    x_data = np.array([[h, e, l, l, o],\n",
    "                       [e, o, l, l, l],\n",
    "                       [l, l, e, e, l]], dtype=np.float32)\n",
    "    print(x_data.shape)\n",
    "    pp.pprint(x_data)\n",
    "    \n",
    "    outputs, _states = tf.nn.dynamic_rnn(cell, x_data, sequence_length=[5,3,4], dtype=tf.float32)\n",
    "    \n",
    "    sess.run(tf.global_variables_initializer())\n",
    "    pp.pprint(outputs.eval())"
   ]
  },
  {
   "cell_type": "code",
   "execution_count": 7,
   "metadata": {},
   "outputs": [
    {
     "name": "stdout",
     "output_type": "stream",
     "text": [
      "(3, 5, 4)\n",
      "array([[[1., 0., 0., 0.],\n",
      "        [0., 1., 0., 0.],\n",
      "        [0., 0., 1., 0.],\n",
      "        [0., 0., 1., 0.],\n",
      "        [0., 0., 0., 1.]],\n",
      "\n",
      "       [[0., 1., 0., 0.],\n",
      "        [0., 0., 0., 1.],\n",
      "        [0., 0., 1., 0.],\n",
      "        [0., 0., 1., 0.],\n",
      "        [0., 0., 1., 0.]],\n",
      "\n",
      "       [[0., 0., 1., 0.],\n",
      "        [0., 0., 1., 0.],\n",
      "        [0., 1., 0., 0.],\n",
      "        [0., 1., 0., 0.],\n",
      "        [0., 0., 1., 0.]]], dtype=float32)\n",
      "array([[[ 0.08097942, -0.03344389],\n",
      "        [ 0.06578816, -0.03407852],\n",
      "        [-0.01006975,  0.15560019],\n",
      "        [-0.09605072,  0.27504328],\n",
      "        [-0.01435238,  0.00877616]],\n",
      "\n",
      "       [[-0.02190757,  0.00456008],\n",
      "        [ 0.03228641, -0.0814694 ],\n",
      "        [-0.03925359,  0.084735  ],\n",
      "        [-0.11598061,  0.2433754 ],\n",
      "        [-0.18286566,  0.33667213]],\n",
      "\n",
      "       [[-0.07919138,  0.1919204 ],\n",
      "        [-0.15284446,  0.30400854],\n",
      "        [-0.14013268,  0.17600645],\n",
      "        [-0.14629571,  0.13513927],\n",
      "        [-0.22286975,  0.3091094 ]]], dtype=float32)\n"
     ]
    }
   ],
   "source": [
    "with tf.variable_scope('initial_state') as scope:    \n",
    "    # one cell RNN input_dim (4) -> output_dim (5). sequence: 5, batch: 3\n",
    "    hidden_size=2\n",
    "    cell = rnn.BasicLSTMCell(num_units=hidden_size, state_is_tuple=True)\n",
    "    \n",
    "    x_data = np.array([[h, e, l, l, o],\n",
    "                      [e, o, l, l, l],\n",
    "                      [l, l, e, e, l]], dtype=np.float32)\n",
    "    print(x_data.shape)\n",
    "    pp.pprint(x_data)\n",
    "    \n",
    "    batch_size = 3\n",
    "    initial_state = cell.zero_state(batch_size, tf.float32)\n",
    "    outputs, _states = tf.nn.dynamic_rnn(cell, x_data, initial_state=initial_state, dtype=tf.float32)\n",
    "    \n",
    "    sess.run(tf.global_variables_initializer())\n",
    "    pp.pprint(outputs.eval())"
   ]
  },
  {
   "cell_type": "code",
   "execution_count": 8,
   "metadata": {},
   "outputs": [
    {
     "name": "stdout",
     "output_type": "stream",
     "text": [
      "array([[[ 0.,  1.,  2.],\n",
      "        [ 3.,  4.,  5.],\n",
      "        [ 6.,  7.,  8.],\n",
      "        [ 9., 10., 11.],\n",
      "        [12., 13., 14.]],\n",
      "\n",
      "       [[15., 16., 17.],\n",
      "        [18., 19., 20.],\n",
      "        [21., 22., 23.],\n",
      "        [24., 25., 26.],\n",
      "        [27., 28., 29.]],\n",
      "\n",
      "       [[30., 31., 32.],\n",
      "        [33., 34., 35.],\n",
      "        [36., 37., 38.],\n",
      "        [39., 40., 41.],\n",
      "        [42., 43., 44.]]], dtype=float32)\n"
     ]
    }
   ],
   "source": [
    "# create input data\n",
    "batch_size = 3\n",
    "sequence_length = 5\n",
    "input_dim = 3\n",
    "\n",
    "x_data = np.arange(45, dtype=np.float32).reshape(batch_size, sequence_length, input_dim)\n",
    "pp.pprint(x_data)  # batch, sequence_length, input_dim"
   ]
  },
  {
   "cell_type": "code",
   "execution_count": 9,
   "metadata": {},
   "outputs": [
    {
     "name": "stdout",
     "output_type": "stream",
     "text": [
      "array([[[-1.6153963e-01, -2.5056832e-02,  8.4046140e-02, -7.4945979e-02,\n",
      "         -1.4603852e-01],\n",
      "        [-1.4972551e-01, -2.6785075e-03,  5.9117419e-01,  8.3772212e-02,\n",
      "         -1.5623972e-01],\n",
      "        [-3.6169995e-02, -1.6148151e-04,  7.4822354e-01,  1.0547684e-01,\n",
      "         -5.9734717e-02],\n",
      "        [-8.8989474e-03, -7.1327695e-06,  7.6024175e-01,  5.1688589e-02,\n",
      "         -2.0005183e-02],\n",
      "        [-2.2156690e-03, -2.8343044e-07,  7.6138109e-01,  2.4470503e-02,\n",
      "         -7.1690660e-03]],\n",
      "\n",
      "       [[-5.7257019e-04, -1.4645556e-11,  7.6143450e-01,  1.3774626e-02,\n",
      "         -3.6466031e-03],\n",
      "        [-1.2483087e-04, -9.7961873e-13,  7.6158792e-01,  5.1992475e-03,\n",
      "         -9.6022291e-04],\n",
      "        [-2.9173618e-05, -3.7449675e-14,  7.6159292e-01,  2.3706360e-03,\n",
      "         -3.5225594e-04],\n",
      "        [-6.7873775e-06, -1.3207296e-15,  7.6159394e-01,  1.0783280e-03,\n",
      "         -1.2939572e-04],\n",
      "        [-1.5765870e-06, -4.4106197e-17,  7.6159412e-01,  4.9000635e-04,\n",
      "         -4.7541962e-05]],\n",
      "\n",
      "       [[-3.8965621e-07, -1.6035472e-21,  7.6159412e-01,  2.7169875e-04,\n",
      "         -2.4595720e-05],\n",
      "        [-8.4911257e-08, -9.0720392e-23,  7.6159418e-01,  1.0107218e-04,\n",
      "         -6.4195092e-06],\n",
      "        [-1.9699860e-08, -2.8124826e-24,  7.6159418e-01,  4.5895460e-05,\n",
      "         -2.3589928e-06],\n",
      "        [-4.5700705e-09, -7.7450265e-26,  7.6159418e-01,  2.0839529e-05,\n",
      "         -8.6688300e-07],\n",
      "        [-1.0601506e-09, -1.9561541e-27,  7.6159418e-01,  9.4623419e-06,\n",
      "         -3.1856371e-07]]], dtype=float32)\n"
     ]
    }
   ],
   "source": [
    "with tf.variable_scope('generated_data') as scope:\n",
    "    # one cell RNN input_dim (3) -> output_dim (5). sequence: 5, batch: 3\n",
    "    cell = rnn.BasicLSTMCell(num_units=5, state_is_tuple=True)\n",
    "    \n",
    "    initial_state = cell.zero_state(batch_size, tf.float32)\n",
    "    outputs, _states = tf.nn.dynamic_rnn(cell, x_data, initial_state=initial_state, dtype=tf.float32)\n",
    "    \n",
    "    sess.run(tf.global_variables_initializer())\n",
    "    pp.pprint(outputs.eval())"
   ]
  },
  {
   "cell_type": "code",
   "execution_count": null,
   "metadata": {},
   "outputs": [],
   "source": []
  }
 ],
 "metadata": {
  "kernelspec": {
   "display_name": "Python 3",
   "language": "python",
   "name": "python3"
  },
  "language_info": {
   "codemirror_mode": {
    "name": "ipython",
    "version": 3
   },
   "file_extension": ".py",
   "mimetype": "text/x-python",
   "name": "python",
   "nbconvert_exporter": "python",
   "pygments_lexer": "ipython3",
   "version": "3.6.4"
  }
 },
 "nbformat": 4,
 "nbformat_minor": 2
}
